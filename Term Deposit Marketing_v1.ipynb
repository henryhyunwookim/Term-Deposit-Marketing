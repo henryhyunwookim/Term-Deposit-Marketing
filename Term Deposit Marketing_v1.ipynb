{
 "cells": [
  {
   "cell_type": "code",
   "execution_count": 1,
   "metadata": {},
   "outputs": [],
   "source": [
    "import os\n",
    "from pathlib import Path\n",
    "import pandas as pd\n",
    "import numpy as np\n",
    "import matplotlib.pyplot as plt\n",
    "import seaborn as sns\n",
    "\n",
    "from xgboost import XGBClassifier\n",
    "from sklearn.model_selection import train_test_split, cross_val_score, RepeatedStratifiedKFold\n",
    "from sklearn.preprocessing import OneHotEncoder, StandardScaler\n",
    "from sklearn.metrics import accuracy_score\n",
    "\n",
    "from imblearn.over_sampling import SMOTE\n",
    "from scipy.stats import ttest_1samp\n",
    "\n",
    "\n",
    "def load_data(file_name, folder_name=None):\n",
    "    if folder_name != None:\n",
    "        path = Path(\"/\".join([os.getcwd(), folder_name, file_name]))\n",
    "    else:\n",
    "        path = Path(\"/\".join([os.getcwd(), file_name]))\n",
    "    return pd.read_csv(path)\n",
    "\n",
    "\n",
    "def plot_histograms(data, target, target_figsize, dependent_layout, dependent_figsize):\n",
    "    print(f\"Distribution of target {target} and dependent variables:\")\n",
    "    data[target].hist(figsize=target_figsize, grid=False).set_title(target)\n",
    "    data.drop([target], axis=1).hist(layout=dependent_layout, figsize=dependent_figsize, sharey=True, grid=False)\n",
    "    plt.tight_layout();"
   ]
  },
  {
   "cell_type": "code",
   "execution_count": 2,
   "metadata": {},
   "outputs": [
    {
     "name": "stdout",
     "output_type": "stream",
     "text": [
      "   age           job  marital  education default  balance housing loan  \\\n",
      "0   58    management  married   tertiary      no     2143     yes   no   \n",
      "1   44    technician   single  secondary      no       29     yes   no   \n",
      "2   33  entrepreneur  married  secondary      no        2     yes  yes   \n",
      "3   47   blue-collar  married    unknown      no     1506     yes   no   \n",
      "4   33       unknown   single    unknown      no        1      no   no   \n",
      "\n",
      "   contact  day month  duration  campaign   y  \n",
      "0  unknown    5   may       261         1  no  \n",
      "1  unknown    5   may       151         1  no  \n",
      "2  unknown    5   may        76         1  no  \n",
      "3  unknown    5   may        92         1  no  \n",
      "4  unknown    5   may       198         1  no   \n",
      "\n",
      "<class 'pandas.core.frame.DataFrame'>\n",
      "RangeIndex: 40000 entries, 0 to 39999\n",
      "Data columns (total 14 columns):\n",
      " #   Column     Non-Null Count  Dtype \n",
      "---  ------     --------------  ----- \n",
      " 0   age        40000 non-null  int64 \n",
      " 1   job        40000 non-null  object\n",
      " 2   marital    40000 non-null  object\n",
      " 3   education  40000 non-null  object\n",
      " 4   default    40000 non-null  object\n",
      " 5   balance    40000 non-null  int64 \n",
      " 6   housing    40000 non-null  object\n",
      " 7   loan       40000 non-null  object\n",
      " 8   contact    40000 non-null  object\n",
      " 9   day        40000 non-null  int64 \n",
      " 10  month      40000 non-null  object\n",
      " 11  duration   40000 non-null  int64 \n",
      " 12  campaign   40000 non-null  int64 \n",
      " 13  y          40000 non-null  object\n",
      "dtypes: int64(5), object(9)\n",
      "memory usage: 4.3+ MB\n",
      "None \n",
      "\n"
     ]
    },
    {
     "data": {
      "text/html": [
       "<div>\n",
       "<style scoped>\n",
       "    .dataframe tbody tr th:only-of-type {\n",
       "        vertical-align: middle;\n",
       "    }\n",
       "\n",
       "    .dataframe tbody tr th {\n",
       "        vertical-align: top;\n",
       "    }\n",
       "\n",
       "    .dataframe thead th {\n",
       "        text-align: right;\n",
       "    }\n",
       "</style>\n",
       "<table border=\"1\" class=\"dataframe\">\n",
       "  <thead>\n",
       "    <tr style=\"text-align: right;\">\n",
       "      <th></th>\n",
       "      <th>age</th>\n",
       "      <th>balance</th>\n",
       "      <th>day</th>\n",
       "      <th>duration</th>\n",
       "      <th>campaign</th>\n",
       "    </tr>\n",
       "  </thead>\n",
       "  <tbody>\n",
       "    <tr>\n",
       "      <th>count</th>\n",
       "      <td>40000.000000</td>\n",
       "      <td>40000.000000</td>\n",
       "      <td>40000.000000</td>\n",
       "      <td>40000.000000</td>\n",
       "      <td>40000.000000</td>\n",
       "    </tr>\n",
       "    <tr>\n",
       "      <th>mean</th>\n",
       "      <td>40.544600</td>\n",
       "      <td>1274.277550</td>\n",
       "      <td>16.017225</td>\n",
       "      <td>254.824300</td>\n",
       "      <td>2.882175</td>\n",
       "    </tr>\n",
       "    <tr>\n",
       "      <th>std</th>\n",
       "      <td>9.641776</td>\n",
       "      <td>2903.769716</td>\n",
       "      <td>8.278127</td>\n",
       "      <td>259.366498</td>\n",
       "      <td>3.239051</td>\n",
       "    </tr>\n",
       "    <tr>\n",
       "      <th>min</th>\n",
       "      <td>19.000000</td>\n",
       "      <td>-8019.000000</td>\n",
       "      <td>1.000000</td>\n",
       "      <td>0.000000</td>\n",
       "      <td>1.000000</td>\n",
       "    </tr>\n",
       "    <tr>\n",
       "      <th>25%</th>\n",
       "      <td>33.000000</td>\n",
       "      <td>54.000000</td>\n",
       "      <td>8.000000</td>\n",
       "      <td>100.000000</td>\n",
       "      <td>1.000000</td>\n",
       "    </tr>\n",
       "    <tr>\n",
       "      <th>50%</th>\n",
       "      <td>39.000000</td>\n",
       "      <td>407.000000</td>\n",
       "      <td>17.000000</td>\n",
       "      <td>175.000000</td>\n",
       "      <td>2.000000</td>\n",
       "    </tr>\n",
       "    <tr>\n",
       "      <th>75%</th>\n",
       "      <td>48.000000</td>\n",
       "      <td>1319.000000</td>\n",
       "      <td>21.000000</td>\n",
       "      <td>313.000000</td>\n",
       "      <td>3.000000</td>\n",
       "    </tr>\n",
       "    <tr>\n",
       "      <th>max</th>\n",
       "      <td>95.000000</td>\n",
       "      <td>102127.000000</td>\n",
       "      <td>31.000000</td>\n",
       "      <td>4918.000000</td>\n",
       "      <td>63.000000</td>\n",
       "    </tr>\n",
       "  </tbody>\n",
       "</table>\n",
       "</div>"
      ],
      "text/plain": [
       "                age        balance           day      duration      campaign\n",
       "count  40000.000000   40000.000000  40000.000000  40000.000000  40000.000000\n",
       "mean      40.544600    1274.277550     16.017225    254.824300      2.882175\n",
       "std        9.641776    2903.769716      8.278127    259.366498      3.239051\n",
       "min       19.000000   -8019.000000      1.000000      0.000000      1.000000\n",
       "25%       33.000000      54.000000      8.000000    100.000000      1.000000\n",
       "50%       39.000000     407.000000     17.000000    175.000000      2.000000\n",
       "75%       48.000000    1319.000000     21.000000    313.000000      3.000000\n",
       "max       95.000000  102127.000000     31.000000   4918.000000     63.000000"
      ]
     },
     "execution_count": 2,
     "metadata": {},
     "output_type": "execute_result"
    }
   ],
   "source": [
    "file_name = \"term-deposit-marketing-2020.csv\"\n",
    "folder_name = \"data\"\n",
    "data = load_data(file_name, folder_name)\n",
    "print(data.head(), \"\\n\")\n",
    "print(data.info(), \"\\n\")\n",
    "data.describe()"
   ]
  },
  {
   "attachments": {},
   "cell_type": "markdown",
   "metadata": {},
   "source": [
    "The data set consists of different data types.\n",
    "\n",
    "Convert the type of \"day\" from int64 to object/categorical."
   ]
  },
  {
   "cell_type": "code",
   "execution_count": 3,
   "metadata": {},
   "outputs": [],
   "source": [
    "data['day'] = data['day'].astype(str)"
   ]
  },
  {
   "attachments": {},
   "cell_type": "markdown",
   "metadata": {},
   "source": [
    "Take a look at the distribution of the target variable \"y\" and dependent variables that are numeric."
   ]
  },
  {
   "cell_type": "code",
   "execution_count": 4,
   "metadata": {},
   "outputs": [
    {
     "name": "stdout",
     "output_type": "stream",
     "text": [
      "Distribution of target y and dependent variables:\n"
     ]
    },
    {
     "data": {
      "image/png": "[encoded data removed]",
      "text/plain": [
       "<Figure size 200x200 with 1 Axes>"
      ]
     },
     "metadata": {},
     "output_type": "display_data"
    },
    {
     "data": {
      "image/png": "[encoded data removed]",
      "text/plain": [
       "<Figure size 800x200 with 4 Axes>"
      ]
     },
     "metadata": {},
     "output_type": "display_data"
    }
   ],
   "source": [
    "plot_histograms(data=data,\n",
    "                target=\"y\", target_figsize=(2,2),\n",
    "                dependent_layout=(1,4), dependent_figsize=(8, 2))"
   ]
  },
  {
   "attachments": {},
   "cell_type": "markdown",
   "metadata": {},
   "source": [
    "The target class is highly imbalanced. SMOTE (synthetic minority oversampling technique) can be used to deal with the class imbalance.<br>\n",
    "<br>\n",
    "Except for age, the other numeric variables are highly skewed to the right. Also the numeric variables are in widely different scales, which will not be helpful in model training and evaluation.<br>\n",
    "Thus, they will be normalized using sklearn's StandardScaler after splitting the data into train and test sets."
   ]
  },
  {
   "cell_type": "code",
   "execution_count": 5,
   "metadata": {},
   "outputs": [
    {
     "name": "stdout",
     "output_type": "stream",
     "text": [
      "Number of dependent variables: 13\n"
     ]
    }
   ],
   "source": [
    "print(f\"Number of dependent variables: {len(data.columns)-1}\")"
   ]
  },
  {
   "attachments": {},
   "cell_type": "markdown",
   "metadata": {},
   "source": [
    "Since there are 13 dependent variables with different data types, we are going to look at feature importances from XGBClassifier for simplicity.<br>\n",
    "<br>\n",
    "Before doing so, we need to first convert categorical variables into numeric, including the target variable, so that machine learning models can process the data. panda's get_dummies method will be used for that operation.<br>\n",
    "* For the target variable, manually convert \"no\" to 0 and \"yes\" to 1 without using the encoder so that \"no\" would not be converted to 1 instead, which would not be intuitive in practice and might cause misunderstanding."
   ]
  },
  {
   "cell_type": "code",
   "execution_count": 7,
   "metadata": {},
   "outputs": [
    {
     "data": {
      "text/html": [
       "<div>\n",
       "<style scoped>\n",
       "    .dataframe tbody tr th:only-of-type {\n",
       "        vertical-align: middle;\n",
       "    }\n",
       "\n",
       "    .dataframe tbody tr th {\n",
       "        vertical-align: top;\n",
       "    }\n",
       "\n",
       "    .dataframe thead th {\n",
       "        text-align: right;\n",
       "    }\n",
       "</style>\n",
       "<table border=\"1\" class=\"dataframe\">\n",
       "  <thead>\n",
       "    <tr style=\"text-align: right;\">\n",
       "      <th></th>\n",
       "      <th>age</th>\n",
       "      <th>job_admin</th>\n",
       "      <th>job_blue-collar</th>\n",
       "      <th>job_entrepreneur</th>\n",
       "      <th>job_housemaid</th>\n",
       "      <th>job_management</th>\n",
       "      <th>job_retired</th>\n",
       "      <th>job_self-employed</th>\n",
       "      <th>job_services</th>\n",
       "      <th>job_student</th>\n",
       "      <th>...</th>\n",
       "      <th>month_feb</th>\n",
       "      <th>month_jan</th>\n",
       "      <th>month_jul</th>\n",
       "      <th>month_jun</th>\n",
       "      <th>month_mar</th>\n",
       "      <th>month_may</th>\n",
       "      <th>month_nov</th>\n",
       "      <th>month_oct</th>\n",
       "      <th>duration</th>\n",
       "      <th>campaign</th>\n",
       "    </tr>\n",
       "  </thead>\n",
       "  <tbody>\n",
       "    <tr>\n",
       "      <th>count</th>\n",
       "      <td>40000.000000</td>\n",
       "      <td>40000.000000</td>\n",
       "      <td>40000.000000</td>\n",
       "      <td>40000.000000</td>\n",
       "      <td>40000.000000</td>\n",
       "      <td>40000.000000</td>\n",
       "      <td>40000.000000</td>\n",
       "      <td>40000.000000</td>\n",
       "      <td>40000.00000</td>\n",
       "      <td>40000.000000</td>\n",
       "      <td>...</td>\n",
       "      <td>40000.000000</td>\n",
       "      <td>40000.000000</td>\n",
       "      <td>40000.000000</td>\n",
       "      <td>40000.000000</td>\n",
       "      <td>40000.000000</td>\n",
       "      <td>40000.000000</td>\n",
       "      <td>40000.000000</td>\n",
       "      <td>40000.000000</td>\n",
       "      <td>40000.000000</td>\n",
       "      <td>40000.000000</td>\n",
       "    </tr>\n",
       "    <tr>\n",
       "      <th>mean</th>\n",
       "      <td>40.544600</td>\n",
       "      <td>0.112075</td>\n",
       "      <td>0.234575</td>\n",
       "      <td>0.035125</td>\n",
       "      <td>0.027175</td>\n",
       "      <td>0.204150</td>\n",
       "      <td>0.035925</td>\n",
       "      <td>0.035350</td>\n",
       "      <td>0.09775</td>\n",
       "      <td>0.013100</td>\n",
       "      <td>...</td>\n",
       "      <td>0.057400</td>\n",
       "      <td>0.029400</td>\n",
       "      <td>0.159500</td>\n",
       "      <td>0.118350</td>\n",
       "      <td>0.006450</td>\n",
       "      <td>0.338300</td>\n",
       "      <td>0.089950</td>\n",
       "      <td>0.002000</td>\n",
       "      <td>254.824300</td>\n",
       "      <td>2.882175</td>\n",
       "    </tr>\n",
       "    <tr>\n",
       "      <th>std</th>\n",
       "      <td>9.641776</td>\n",
       "      <td>0.315463</td>\n",
       "      <td>0.423738</td>\n",
       "      <td>0.184098</td>\n",
       "      <td>0.162595</td>\n",
       "      <td>0.403084</td>\n",
       "      <td>0.186106</td>\n",
       "      <td>0.184665</td>\n",
       "      <td>0.29698</td>\n",
       "      <td>0.113704</td>\n",
       "      <td>...</td>\n",
       "      <td>0.232608</td>\n",
       "      <td>0.168927</td>\n",
       "      <td>0.366146</td>\n",
       "      <td>0.323026</td>\n",
       "      <td>0.080053</td>\n",
       "      <td>0.473137</td>\n",
       "      <td>0.286114</td>\n",
       "      <td>0.044677</td>\n",
       "      <td>259.366498</td>\n",
       "      <td>3.239051</td>\n",
       "    </tr>\n",
       "    <tr>\n",
       "      <th>min</th>\n",
       "      <td>19.000000</td>\n",
       "      <td>0.000000</td>\n",
       "      <td>0.000000</td>\n",
       "      <td>0.000000</td>\n",
       "      <td>0.000000</td>\n",
       "      <td>0.000000</td>\n",
       "      <td>0.000000</td>\n",
       "      <td>0.000000</td>\n",
       "      <td>0.00000</td>\n",
       "      <td>0.000000</td>\n",
       "      <td>...</td>\n",
       "      <td>0.000000</td>\n",
       "      <td>0.000000</td>\n",
       "      <td>0.000000</td>\n",
       "      <td>0.000000</td>\n",
       "      <td>0.000000</td>\n",
       "      <td>0.000000</td>\n",
       "      <td>0.000000</td>\n",
       "      <td>0.000000</td>\n",
       "      <td>0.000000</td>\n",
       "      <td>1.000000</td>\n",
       "    </tr>\n",
       "    <tr>\n",
       "      <th>25%</th>\n",
       "      <td>33.000000</td>\n",
       "      <td>0.000000</td>\n",
       "      <td>0.000000</td>\n",
       "      <td>0.000000</td>\n",
       "      <td>0.000000</td>\n",
       "      <td>0.000000</td>\n",
       "      <td>0.000000</td>\n",
       "      <td>0.000000</td>\n",
       "      <td>0.00000</td>\n",
       "      <td>0.000000</td>\n",
       "      <td>...</td>\n",
       "      <td>0.000000</td>\n",
       "      <td>0.000000</td>\n",
       "      <td>0.000000</td>\n",
       "      <td>0.000000</td>\n",
       "      <td>0.000000</td>\n",
       "      <td>0.000000</td>\n",
       "      <td>0.000000</td>\n",
       "      <td>0.000000</td>\n",
       "      <td>100.000000</td>\n",
       "      <td>1.000000</td>\n",
       "    </tr>\n",
       "    <tr>\n",
       "      <th>50%</th>\n",
       "      <td>39.000000</td>\n",
       "      <td>0.000000</td>\n",
       "      <td>0.000000</td>\n",
       "      <td>0.000000</td>\n",
       "      <td>0.000000</td>\n",
       "      <td>0.000000</td>\n",
       "      <td>0.000000</td>\n",
       "      <td>0.000000</td>\n",
       "      <td>0.00000</td>\n",
       "      <td>0.000000</td>\n",
       "      <td>...</td>\n",
       "      <td>0.000000</td>\n",
       "      <td>0.000000</td>\n",
       "      <td>0.000000</td>\n",
       "      <td>0.000000</td>\n",
       "      <td>0.000000</td>\n",
       "      <td>0.000000</td>\n",
       "      <td>0.000000</td>\n",
       "      <td>0.000000</td>\n",
       "      <td>175.000000</td>\n",
       "      <td>2.000000</td>\n",
       "    </tr>\n",
       "    <tr>\n",
       "      <th>75%</th>\n",
       "      <td>48.000000</td>\n",
       "      <td>0.000000</td>\n",
       "      <td>0.000000</td>\n",
       "      <td>0.000000</td>\n",
       "      <td>0.000000</td>\n",
       "      <td>0.000000</td>\n",
       "      <td>0.000000</td>\n",
       "      <td>0.000000</td>\n",
       "      <td>0.00000</td>\n",
       "      <td>0.000000</td>\n",
       "      <td>...</td>\n",
       "      <td>0.000000</td>\n",
       "      <td>0.000000</td>\n",
       "      <td>0.000000</td>\n",
       "      <td>0.000000</td>\n",
       "      <td>0.000000</td>\n",
       "      <td>1.000000</td>\n",
       "      <td>0.000000</td>\n",
       "      <td>0.000000</td>\n",
       "      <td>313.000000</td>\n",
       "      <td>3.000000</td>\n",
       "    </tr>\n",
       "    <tr>\n",
       "      <th>max</th>\n",
       "      <td>95.000000</td>\n",
       "      <td>1.000000</td>\n",
       "      <td>1.000000</td>\n",
       "      <td>1.000000</td>\n",
       "      <td>1.000000</td>\n",
       "      <td>1.000000</td>\n",
       "      <td>1.000000</td>\n",
       "      <td>1.000000</td>\n",
       "      <td>1.00000</td>\n",
       "      <td>1.000000</td>\n",
       "      <td>...</td>\n",
       "      <td>1.000000</td>\n",
       "      <td>1.000000</td>\n",
       "      <td>1.000000</td>\n",
       "      <td>1.000000</td>\n",
       "      <td>1.000000</td>\n",
       "      <td>1.000000</td>\n",
       "      <td>1.000000</td>\n",
       "      <td>1.000000</td>\n",
       "      <td>4918.000000</td>\n",
       "      <td>63.000000</td>\n",
       "    </tr>\n",
       "  </tbody>\n",
       "</table>\n",
       "<p>8 rows × 74 columns</p>\n",
       "</div>"
      ],
      "text/plain": [
       "                age     job_admin  job_blue-collar  job_entrepreneur  \\\n",
       "count  40000.000000  40000.000000     40000.000000      40000.000000   \n",
       "mean      40.544600      0.112075         0.234575          0.035125   \n",
       "std        9.641776      0.315463         0.423738          0.184098   \n",
       "min       19.000000      0.000000         0.000000          0.000000   \n",
       "25%       33.000000      0.000000         0.000000          0.000000   \n",
       "50%       39.000000      0.000000         0.000000          0.000000   \n",
       "75%       48.000000      0.000000         0.000000          0.000000   \n",
       "max       95.000000      1.000000         1.000000          1.000000   \n",
       "\n",
       "       job_housemaid  job_management   job_retired  job_self-employed  \\\n",
       "count   40000.000000    40000.000000  40000.000000       40000.000000   \n",
       "mean        0.027175        0.204150      0.035925           0.035350   \n",
       "std         0.162595        0.403084      0.186106           0.184665   \n",
       "min         0.000000        0.000000      0.000000           0.000000   \n",
       "25%         0.000000        0.000000      0.000000           0.000000   \n",
       "50%         0.000000        0.000000      0.000000           0.000000   \n",
       "75%         0.000000        0.000000      0.000000           0.000000   \n",
       "max         1.000000        1.000000      1.000000           1.000000   \n",
       "\n",
       "       job_services   job_student  ...     month_feb     month_jan  \\\n",
       "count   40000.00000  40000.000000  ...  40000.000000  40000.000000   \n",
       "mean        0.09775      0.013100  ...      0.057400      0.029400   \n",
       "std         0.29698      0.113704  ...      0.232608      0.168927   \n",
       "min         0.00000      0.000000  ...      0.000000      0.000000   \n",
       "25%         0.00000      0.000000  ...      0.000000      0.000000   \n",
       "50%         0.00000      0.000000  ...      0.000000      0.000000   \n",
       "75%         0.00000      0.000000  ...      0.000000      0.000000   \n",
       "max         1.00000      1.000000  ...      1.000000      1.000000   \n",
       "\n",
       "          month_jul     month_jun     month_mar     month_may     month_nov  \\\n",
       "count  40000.000000  40000.000000  40000.000000  40000.000000  40000.000000   \n",
       "mean       0.159500      0.118350      0.006450      0.338300      0.089950   \n",
       "std        0.366146      0.323026      0.080053      0.473137      0.286114   \n",
       "min        0.000000      0.000000      0.000000      0.000000      0.000000   \n",
       "25%        0.000000      0.000000      0.000000      0.000000      0.000000   \n",
       "50%        0.000000      0.000000      0.000000      0.000000      0.000000   \n",
       "75%        0.000000      0.000000      0.000000      1.000000      0.000000   \n",
       "max        1.000000      1.000000      1.000000      1.000000      1.000000   \n",
       "\n",
       "          month_oct      duration      campaign  \n",
       "count  40000.000000  40000.000000  40000.000000  \n",
       "mean       0.002000    254.824300      2.882175  \n",
       "std        0.044677    259.366498      3.239051  \n",
       "min        0.000000      0.000000      1.000000  \n",
       "25%        0.000000    100.000000      1.000000  \n",
       "50%        0.000000    175.000000      2.000000  \n",
       "75%        0.000000    313.000000      3.000000  \n",
       "max        1.000000   4918.000000     63.000000  \n",
       "\n",
       "[8 rows x 74 columns]"
      ]
     },
     "execution_count": 7,
     "metadata": {},
     "output_type": "execute_result"
    }
   ],
   "source": [
    "X_original = data.drop([\"y\"], axis=1)\n",
    "y_original = data[\"y\"]\n",
    "y = y_original.apply(lambda x: 1 if x==\"yes\" else 0)\n",
    "\n",
    "X = pd.DataFrame()\n",
    "for col in X_original.columns:\n",
    "    if type(X_original[col][0]) == str:\n",
    "        col_pivoted = pd.get_dummies(X_original[col], prefix=col)\n",
    "        X = pd.concat([X, col_pivoted], axis=1)\n",
    "    else:\n",
    "        X = pd.concat([X, X_original[col]], axis=1)\n",
    "\n",
    "X.describe()"
   ]
  },
  {
   "attachments": {},
   "cell_type": "markdown",
   "metadata": {},
   "source": [
    "Now it's time to split the data into train and test sets, and then to oversample for the target variable, which is highly imbalanced as we've observed from the histogram above, for the train and test sets separately to prevent data leakage."
   ]
  },
  {
   "cell_type": "code",
   "execution_count": 8,
   "metadata": {},
   "outputs": [],
   "source": [
    "test_size = 0.2\n",
    "random_state = 1\n",
    "X_train, X_test, y_train, y_test = \\\n",
    "    train_test_split(X, y, test_size=test_size, stratify=y, random_state=random_state)"
   ]
  },
  {
   "cell_type": "code",
   "execution_count": 9,
   "metadata": {},
   "outputs": [],
   "source": [
    "X_train_oversampled, y_train_oversampled = SMOTE(random_state=random_state).fit_resample(X_train, y_train)\n",
    "X_test_oversampled, y_test_oversampled = SMOTE(random_state=random_state).fit_resample(X_test, y_test)"
   ]
  },
  {
   "attachments": {},
   "cell_type": "markdown",
   "metadata": {},
   "source": [
    "Next is normalizing the dependent variables in different scales using sklearn's StandardScaler as mentioned above.<br>\n",
    "* Normalization is not necessary for the target variable but rename the \"X/y_test_oversampled\" variables to \"X/y_test_oversampled\" to prevent confusion."
   ]
  },
  {
   "cell_type": "code",
   "execution_count": 10,
   "metadata": {},
   "outputs": [],
   "source": [
    "scaler = StandardScaler()\n",
    "X_train_normalized = scaler.fit_transform(X_train_oversampled)\n",
    "X_test_normalized = scaler.transform(X_test_oversampled)\n",
    "\n",
    "y_train_normalized = y_train_oversampled\n",
    "y_test_normalized = y_test_oversampled"
   ]
  },
  {
   "cell_type": "code",
   "execution_count": 11,
   "metadata": {},
   "outputs": [
    {
     "data": {
      "text/plain": [
       "0.9605174504783722"
      ]
     },
     "execution_count": 11,
     "metadata": {},
     "output_type": "execute_result"
    }
   ],
   "source": [
    "xgb_clf = XGBClassifier(seed=random_state)\n",
    "xgb_clf.fit(X_train_normalized, y_train_normalized)\n",
    "accuracy_score(y_test_normalized, xgb_clf.predict(X_test_normalized))"
   ]
  },
  {
   "cell_type": "code",
   "execution_count": 12,
   "metadata": {},
   "outputs": [],
   "source": [
    "scores = cross_val_score(xgb_clf, X_test_normalized, y_test_normalized, scoring='roc_auc',\n",
    "                         cv=RepeatedStratifiedKFold(n_splits=5, n_repeats=100))"
   ]
  },
  {
   "cell_type": "code",
   "execution_count": 15,
   "metadata": {},
   "outputs": [
    {
     "name": "stdout",
     "output_type": "stream",
     "text": [
      "Hypothesis test for XGBClassifier\n",
      "Reject the null hypothesis:\n",
      "Mean test score is greater than 0.81 at alpha=0.05.\n",
      "\n"
     ]
    },
    {
     "data": {
      "image/png": "[encoded data removed]",
      "text/plain": [
       "<Figure size 500x1000 with 1 Axes>"
      ]
     },
     "metadata": {},
     "output_type": "display_data"
    }
   ],
   "source": [
    "target = 0.81\n",
    "alpha = 0.05\n",
    "\n",
    "fig, ax = plt.subplots(figsize=(5, 10))\n",
    "fig.tight_layout(pad=5)\n",
    "print(f\"Hypothesis test for {type(xgb_clf).__name__}\")\n",
    "t_stat, pvalue = ttest_1samp(scores, target)\n",
    "if pvalue/2 > alpha:\n",
    "    print(f\"Failed to reject the null hypothesis:\")\n",
    "    print(f\"Mean test score is not significantly different from {target} at alpha={alpha}.\")\n",
    "else:\n",
    "    print(f\"Reject the null hypothesis:\")\n",
    "    if t_stat > 0:\n",
    "        print(f\"Mean test score is greater than {target} at alpha={alpha}.\")\n",
    "    else:\n",
    "        print(f\"Mean test score is smaller than {target} at alpha={alpha}.\")\n",
    "print()\n",
    "\n",
    "sns.histplot(scores, ax=ax)\n",
    "ax.vlines(np.mean(scores), 0, 150)\n",
    "ax.text(0, 80,\n",
    "    f\"\"\"\n",
    "    Mean: {round(np.mean(scores), 4)}\n",
    "    Std: {round(np.std(scores), 4)}\n",
    "    Max: {round(np.max(scores), 4)}\n",
    "    Min: {round(np.min(scores), 4)}\n",
    "    \"\"\")\n",
    "ax.set_title(type(xgb_clf).__name__)\n",
    "ax.set_xlabel(\"Accuracy Score\")\n",
    "ax.set_xbound(0, 1)"
   ]
  },
  {
   "attachments": {},
   "cell_type": "markdown",
   "metadata": {},
   "source": [
    "The prediction accuracy scores were almost perfect, likely becuase the preprocessing steps performed before model fitting such as normalizing dependent variables in different scales helped a lot."
   ]
  },
  {
   "cell_type": "code",
   "execution_count": 14,
   "metadata": {},
   "outputs": [
    {
     "data": {
      "text/plain": [
       "array([0.00129588, 0.0056054 , 0.01061742, 0.00582657, 0.00548151,\n",
       "       0.01063287, 0.00548122, 0.00480713, 0.00977681, 0.00353171,\n",
       "       0.01155604, 0.00619368, 0.0024687 , 0.0693954 , 0.01684836,\n",
       "       0.02767983, 0.02631562, 0.0126255 , 0.02100228, 0.03894221,\n",
       "       0.00126845, 0.0010093 , 0.0015009 , 0.09871136, 0.12073225,\n",
       "       0.01012163, 0.01986355, 0.00555588, 0.01651951, 0.08103521,\n",
       "       0.00169077, 0.00366467, 0.00374191, 0.00155264, 0.00142494,\n",
       "       0.00266061, 0.0024435 , 0.00206698, 0.00440258, 0.00170805,\n",
       "       0.00252832, 0.00358921, 0.00341658, 0.00150453, 0.00184903,\n",
       "       0.00122723, 0.00098199, 0.00235714, 0.00117496, 0.00133296,\n",
       "       0.00295072, 0.00191067, 0.00401177, 0.00240923, 0.00123877,\n",
       "       0.00370291, 0.0034287 , 0.00407589, 0.00385777, 0.00240045,\n",
       "       0.00203104, 0.01596044, 0.05250814, 0.        , 0.01176248,\n",
       "       0.0360489 , 0.03226461, 0.01517027, 0.00144849, 0.02475934,\n",
       "       0.03715429, 0.00850193, 0.03125125, 0.00343104], dtype=float32)"
      ]
     },
     "execution_count": 14,
     "metadata": {},
     "output_type": "execute_result"
    }
   ],
   "source": [
    "xgb_clf.feature_importances_"
   ]
  },
  {
   "cell_type": "code",
   "execution_count": null,
   "metadata": {},
   "outputs": [],
   "source": []
  }
 ],
 "metadata": {
  "kernelspec": {
   "display_name": "Python 3",
   "language": "python",
   "name": "python3"
  },
  "language_info": {
   "codemirror_mode": {
    "name": "ipython",
    "version": 3
   },
   "file_extension": ".py",
   "mimetype": "text/x-python",
   "name": "python",
   "nbconvert_exporter": "python",
   "pygments_lexer": "ipython3",
   "version": "3.8.10"
  },
  "orig_nbformat": 4,
  "vscode": {
   "interpreter": {
    "hash": "a4868653bb6f8972e87e4c446ab8a445a15b25dedb8594cc74c480f8152ea86a"
   }
  }
 },
 "nbformat": 4,
 "nbformat_minor": 2
}
